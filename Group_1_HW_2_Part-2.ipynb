{
 "cells": [
  {
   "cell_type": "code",
   "execution_count": 1,
   "id": "5b25d4ea",
   "metadata": {},
   "outputs": [],
   "source": [
    "def read_xyz(filepath):\n",
    "    \"\"\"\n",
    "    Reads coordinates from an xyz file.\n",
    "    \n",
    "    Parameters\n",
    "    ----------\n",
    "    filepath : str\n",
    "       The path to the xyz file to be processed.\n",
    "       \n",
    "    Returns\n",
    "    -------\n",
    "    atomic_coordinates : list\n",
    "        A two dimensional list containing atomic coordinates\n",
    "    \"\"\"\n",
    "    \n",
    "    with open(filepath) as f:\n",
    "        box_length = float(f.readline().split()[0])\n",
    "        num_atoms = float(f.readline())\n",
    "        coordinates = f.readlines()\n",
    "    \n",
    "    atomic_coordinates = []\n",
    "    \n",
    "    for atom in coordinates:\n",
    "        split_atoms = atom.split()\n",
    "        \n",
    "        float_coords = []\n",
    "        \n",
    "        # We split this way to get rid of the atom label.\n",
    "        for coord in split_atoms[1:]:\n",
    "            float_coords.append(float(coord))\n",
    "            \n",
    "        atomic_coordinates.append(float_coords)\n",
    "        \n",
    "    \n",
    "    return atomic_coordinates, box_length\n",
    "    \n",
    "    "
   ]
  },
  {
   "cell_type": "code",
   "execution_count": 2,
   "id": "747662fb",
   "metadata": {},
   "outputs": [
    {
     "name": "stdout",
     "output_type": "stream",
     "text": [
      "10.0\n",
      "800\n"
     ]
    }
   ],
   "source": [
    "\n",
    "import os\n",
    "\n",
    "config1_file = os.path.join(\"lj_sample_configurations\", \"lj_sample_config_periodic1.txt\")\n",
    "\n",
    "sample_coords, box_length = read_xyz(config1_file)\n",
    "\n",
    "print(box_length)\n",
    "\n",
    "print(len(sample_coords))"
   ]
  },
  {
   "cell_type": "code",
   "execution_count": 3,
   "id": "91ac4ce4",
   "metadata": {},
   "outputs": [],
   "source": [
    "import math\n",
    "\n",
    "def calculate_tail_correction(n,v,r_c):\n",
    "    r3_term = math.pow(1/r_c, 3)\n",
    "    r9_term = (1/3) * (math.pow(r3_term, 9))\n",
    "    NV_term = (8*math.pi/3) * ((n**2)/v)\n",
    "    tail_correction = NV_term * (r9_term - r3_term)\n",
    "    \n",
    "    return tail_correction\n",
    "    "
   ]
  },
  {
   "cell_type": "code",
   "execution_count": 16,
   "id": "0b0be139",
   "metadata": {},
   "outputs": [],
   "source": [
    "U = calculate_tail_correction(len(sample_coords), math.pow(box_length\n",
    ",3),3)"
   ]
  },
  {
   "cell_type": "code",
   "execution_count": 17,
   "id": "782341cd",
   "metadata": {},
   "outputs": [],
   "source": [
    "#Write an assert statement to check against the reported value from NIST. \n",
    "#The value you are looking for is ULRC. We were using Configuration 1 in class.\n",
    "\n",
    "assert math.isclose(U, -1.9849E+02, rel_tol=0.05)\n"
   ]
  },
  {
   "cell_type": "code",
   "execution_count": 22,
   "id": "fa23e47f",
   "metadata": {},
   "outputs": [
    {
     "data": {
      "text/plain": [
       "-2.031005859375"
      ]
     },
     "execution_count": 22,
     "metadata": {},
     "output_type": "execute_result"
    }
   ],
   "source": [
    "def calculate_LJ(r_ij):\n",
    "    r6_term = math.pow(1/r_ij, 6)\n",
    "    r12_term = math.pow(r6_term, 2)\n",
    "    pairwise_energy = 4 * (r12_term - r6_term)\n",
    "    return pairwise_energy\n",
    "   \n",
    "\n",
    "\n",
    "def calculate_distance(coord1, coord2):\n",
    "    \n",
    "    distance = 0\n",
    "    \n",
    "    for i in range(3):\n",
    "        dim_dist = (coord1[i] - coord2[i]) ** 2\n",
    "        distance += dim_dist\n",
    "        \n",
    "    distance = math.sqrt(distance)\n",
    "    \n",
    "    return distance\n",
    "\n",
    "def calculate_total_energy(coordinates):\n",
    "    total_energy = 0\n",
    "    num_atoms = len(coordinates)\n",
    "    \n",
    "    for i in range(num_atoms):\n",
    "        for j in range(i+1, num_atoms):\n",
    "            dist_ij = calculate_distance(coordinates[i], coordinates[j])\n",
    "            pairwise_energy = calculate_LJ(dist_ij)\n",
    "            \n",
    "            total_energy += pairwise_energy\n",
    "    \n",
    "    return total_energy\n",
    "\n",
    "coordinates = [[0, 0, 0], [0, math.pow(2, 1/6), 0], [0, 2*math.pow(2, 1/6), 0]]\n",
    "\n",
    "calculate_total_energy(coordinates)"
   ]
  },
  {
   "cell_type": "code",
   "execution_count": 31,
   "id": "aaeb08b6",
   "metadata": {},
   "outputs": [],
   "source": [
    "#Answer this question - What is the difference in calculated system energy when there is no cut-off vs when using a cut-off of $3\\sigma$?\n",
    "\n",
    "def calculate_total_energy(coordinates, cutoff):\n",
    "    total_energy = 0\n",
    "    num_atoms = len(coordinates)\n",
    "\n",
    "    for i in range(num_atoms):\n",
    "        for j in range(i+1, num_atoms):\n",
    "            # Calculate the distance between the particles - exercise.\n",
    "            dist_ij = calculate_distance(coordinates[i], coordinates[j])\n",
    "\n",
    "            if dist_ij < cutoff:\n",
    "                # Calculate the pairwise LJ energy\n",
    "                LJ_ij = calculate_LJ(dist_ij)\n",
    "\n",
    "                # Add to total energy.\n",
    "                total_energy += LJ_ij\n",
    "                \n",
    "    return total_energy\n",
    "\n"
   ]
  },
  {
   "cell_type": "code",
   "execution_count": 33,
   "id": "e9d6e8e6",
   "metadata": {},
   "outputs": [
    {
     "data": {
      "text/plain": [
       "-3487.454232861954"
      ]
     },
     "execution_count": 33,
     "metadata": {},
     "output_type": "execute_result"
    }
   ],
   "source": [
    "calculate_total_energy(sample_coords, 3)"
   ]
  },
  {
   "cell_type": "code",
   "execution_count": 34,
   "id": "9c294412",
   "metadata": {},
   "outputs": [
    {
     "data": {
      "text/plain": [
       "-3582.239311831134"
      ]
     },
     "execution_count": 34,
     "metadata": {},
     "output_type": "execute_result"
    }
   ],
   "source": [
    "calculate_total_energy(sample_coords, 1000)"
   ]
  },
  {
   "cell_type": "code",
   "execution_count": 35,
   "id": "c6efe32c",
   "metadata": {},
   "outputs": [
    {
     "name": "stdout",
     "output_type": "stream",
     "text": [
      "-94.78507896917972\n"
     ]
    }
   ],
   "source": [
    "Cutoff vs. non cutoff\n",
    "print(calculate_total_energy(sample_coords, 1000) - calculate_total_energy(sample_coords, 3))"
   ]
  },
  {
   "cell_type": "markdown",
   "id": "ea1632f7",
   "metadata": {},
   "source": [
    "The difference between the cutoff value and the non cutoff value are that it excludes the energy where the atoms exceed 3 sigma Lennard Jones distances. This is reflected in the total energy difference between the cutoff and non cutoff. "
   ]
  },
  {
   "cell_type": "code",
   "execution_count": null,
   "id": "e8aaca7a",
   "metadata": {},
   "outputs": [],
   "source": []
  }
 ],
 "metadata": {
  "kernelspec": {
   "display_name": "Python 3 (ipykernel)",
   "language": "python",
   "name": "python3"
  },
  "language_info": {
   "codemirror_mode": {
    "name": "ipython",
    "version": 3
   },
   "file_extension": ".py",
   "mimetype": "text/x-python",
   "name": "python",
   "nbconvert_exporter": "python",
   "pygments_lexer": "ipython3",
   "version": "3.9.6"
  }
 },
 "nbformat": 4,
 "nbformat_minor": 5
}
