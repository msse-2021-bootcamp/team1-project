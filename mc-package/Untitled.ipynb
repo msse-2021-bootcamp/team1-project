{
 "cells": [
  {
   "cell_type": "code",
   "execution_count": 4,
   "id": "646c30ec",
   "metadata": {},
   "outputs": [
    {
     "name": "stdout",
     "output_type": "stream",
     "text": [
      "Help on function run_simulation in module mcsim.monte_carlo:\n",
      "\n",
      "run_simulation(coordinates, box_length, cutoff, reduced_temperature, num_steps, max_displacement=0.1, freq=1000)\n",
      "    Run a Monte Carlo Simulation with the specified parameters\n",
      "    \n",
      "    Parameters\n",
      "    ----------------\n",
      "    coordinates : list\n",
      "        the coordinates for all particles in sys\n",
      "    box length : float\n",
      "    \n",
      "        length of simultion box. assumes cubic boc\n",
      "    cutoff : float\n",
      "        simulation cutoff. beyond distances, interactions aren't calculated\n",
      "    reduced_temperature : float\n",
      "    num_steps : int\n",
      "        the number of steps to run the simulation for\n",
      "    max_displacement: float\n",
      "    freq : int\n",
      "\n"
     ]
    }
   ],
   "source": [
    "import mcsim.monte_carlo as mc\n",
    "\n",
    "help(mcsim.monte_carlo.run_simulation)"
   ]
  },
  {
   "cell_type": "code",
   "execution_count": 6,
   "id": "d826d2ff",
   "metadata": {},
   "outputs": [],
   "source": [
    "#set simulation parameters\n",
    "reduced_temp = 1.5\n",
    "num_steps = 5000\n",
    "cutoff = 3\n",
    "freq = 1000\n",
    "\n",
    "coordinates, box_length = mc.read_xyz('../lj_sample_configurations/lj_sample_config_periodic1.txt')"
   ]
  },
  {
   "cell_type": "code",
   "execution_count": 7,
   "id": "c931984c",
   "metadata": {},
   "outputs": [
    {
     "name": "stdout",
     "output_type": "stream",
     "text": [
      "0 -5.6871323527630935\n",
      "1000 -5.573896292872929\n",
      "2000 -5.485576760480419\n",
      "3000 -5.469669956010359\n",
      "4000 -5.441959118332443\n"
     ]
    }
   ],
   "source": [
    "final_coordinates = mc.run_simulation(coordinates, box_length, cutoff, reduced_temp, num_steps)"
   ]
  },
  {
   "cell_type": "code",
   "execution_count": null,
   "id": "51a05b8c",
   "metadata": {},
   "outputs": [],
   "source": []
  }
 ],
 "metadata": {
  "kernelspec": {
   "display_name": "Python 3",
   "language": "python",
   "name": "python3"
  },
  "language_info": {
   "codemirror_mode": {
    "name": "ipython",
    "version": 3
   },
   "file_extension": ".py",
   "mimetype": "text/x-python",
   "name": "python",
   "nbconvert_exporter": "python",
   "pygments_lexer": "ipython3",
   "version": "3.9.6"
  }
 },
 "nbformat": 4,
 "nbformat_minor": 5
}
