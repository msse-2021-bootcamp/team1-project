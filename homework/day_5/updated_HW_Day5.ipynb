{
 "cells": [
  {
   "cell_type": "code",
   "execution_count": 2,
   "source": [
    "import math\r\n",
    "import random\r\n",
    "import os\r\n",
    "import numpy as np"
   ],
   "outputs": [],
   "metadata": {}
  },
  {
   "cell_type": "code",
   "execution_count": 3,
   "source": [
    "def calculate_LJ(r_ij):\r\n",
    "    r6_term = math.pow(1/r_ij, 6)\r\n",
    "    r12_term = math.pow(r6_term, 2)\r\n",
    "    \r\n",
    "    pairwise_energy = 4 * (r12_term - r6_term)\r\n",
    "    \r\n",
    "    return pairwise_energy"
   ],
   "outputs": [],
   "metadata": {}
  },
  {
   "cell_type": "code",
   "execution_count": 4,
   "source": [
    "def calculate_distance(coord1, coord2, box_length=None):\r\n",
    "\r\n",
    "    distance = 0\r\n",
    "    for i in range(3):\r\n",
    "        dim_dist = (coord1[i] - coord2[i]) \r\n",
    "        \r\n",
    "        if box_length:\r\n",
    "            dim_dist = dim_dist - box_length * round(dim_dist / box_length)\r\n",
    "        \r\n",
    "        dim_dist = dim_dist**2\r\n",
    "        distance += dim_dist\r\n",
    "    \r\n",
    "    distance = math.sqrt(distance)\r\n",
    "    return distance"
   ],
   "outputs": [],
   "metadata": {}
  },
  {
   "cell_type": "code",
   "execution_count": 5,
   "source": [
    "def calculate_tail_correction(num_particles, box_length, cutoff):\r\n",
    "    const1 = (8 * math.pi * num_particles ** 2) / (3 * box_length ** 3)\r\n",
    "    const2 = (1/3) * (1 / cutoff)**9 - (1 / cutoff) **3\r\n",
    "    \r\n",
    "    return const1 * const2"
   ],
   "outputs": [],
   "metadata": {}
  },
  {
   "cell_type": "code",
   "execution_count": 6,
   "source": [
    "def calculate_total_energy(coordinates, box_length, cutoff): \r\n",
    "    total_energy = 0\r\n",
    "    \r\n",
    "    num_atoms = len(coordinates)\r\n",
    "    \r\n",
    "    for i in range(num_atoms):\r\n",
    "        for j in range(i+1, num_atoms):\r\n",
    "            \r\n",
    "            #print(f'Comparings atom number {i} with atom number {j}')\r\n",
    "            \r\n",
    "            dist_ij = calculate_distance(coordinates[i], coordinates[j], box_length=box_length)\r\n",
    "            \r\n",
    "            if dist_ij < cutoff:\r\n",
    "                interaction_energy = calculate_LJ(dist_ij)\r\n",
    "                total_energy += interaction_energy\r\n",
    "            \r\n",
    "    return total_energy"
   ],
   "outputs": [],
   "metadata": {}
  },
  {
   "cell_type": "code",
   "execution_count": 7,
   "source": [
    "def read_xyz(filepath):\r\n",
    "    with open(filepath) as f:\r\n",
    "        box_length = float(f.readline().split()[0])\r\n",
    "        num_atoms = float(f.readline())\r\n",
    "        coordinates = f.readlines()\r\n",
    "    \r\n",
    "    atomic_coordinates = []\r\n",
    "    \r\n",
    "    for atom in coordinates:\r\n",
    "        split_atoms = atom.split()\r\n",
    "        \r\n",
    "        float_coords = []\r\n",
    "        \r\n",
    "        # We split this way to get rid of the atom label.\r\n",
    "        for coord in split_atoms[1:]:\r\n",
    "            float_coords.append(float(coord))\r\n",
    "            \r\n",
    "        atomic_coordinates.append(float_coords)\r\n",
    "        \r\n",
    "    \r\n",
    "    return atomic_coordinates, box_length"
   ],
   "outputs": [],
   "metadata": {}
  },
  {
   "cell_type": "code",
   "execution_count": 8,
   "source": [
    "def accept_or_reject(delta_e, beta):\r\n",
    "    \r\n",
    "    \r\n",
    "    if delta_e <= 0:\r\n",
    "        accept = True\r\n",
    "    else:\r\n",
    "        random_number = random.random()\r\n",
    "        p_acc = math.exp(-beta*delta_e)\r\n",
    "        \r\n",
    "        if random_number < p_acc:\r\n",
    "            accept = True\r\n",
    "        else:\r\n",
    "            accept = False\r\n",
    "    \r\n",
    "    return accept"
   ],
   "outputs": [],
   "metadata": {}
  },
  {
   "cell_type": "code",
   "execution_count": 9,
   "source": [
    "def calculate_pair_energy(coordinates, i_particle, box_length, cutoff):\r\n",
    "    \r\n",
    "    \r\n",
    "    e_total = 0\r\n",
    "    \r\n",
    "    i_position = coordinates[i_particle]\r\n",
    "    \r\n",
    "    num_atoms = len(coordinates)\r\n",
    "    \r\n",
    "    for j_particle in range(num_atoms):\r\n",
    "        if i_particle != j_particle:\r\n",
    "            j_position = coordinates[j_particle]\r\n",
    "            rij = calculate_distance(i_position, j_position, box_length)\r\n",
    "\r\n",
    "            if rij < cutoff:\r\n",
    "                e_pair = calculate_LJ(rij)\r\n",
    "                e_total += e_pair\r\n",
    "    \r\n",
    "    return e_total"
   ],
   "outputs": [],
   "metadata": {}
  },
  {
   "cell_type": "code",
   "execution_count": 10,
   "source": [
    "#calculate_p\r\n",
    "def calculate_f(r_ij):\r\n",
    "    \r\n",
    "    r6_term = np.power(1/r_ij, 6)\r\n",
    "    r12_term = np.power(r6_term, 2)\r\n",
    "    \r\n",
    "    f = 48 * (r12_term - 0.5*r6_term)/(r_ij**2) * r_ij\r\n",
    "    \r\n",
    "    return f"
   ],
   "outputs": [],
   "metadata": {}
  },
  {
   "cell_type": "code",
   "execution_count": 11,
   "source": [
    "def calculate_tail_p(num_particles, box_length, r_ij):\r\n",
    "    \r\n",
    "    \r\n",
    "    const = (16 * np.pi * num_particles ** 2) / (3 * box_length ** 6)\r\n",
    "    r3_term = 1/(r_ij**3)\r\n",
    "    r9_term = 2/3*(r3_term**3)\r\n",
    "    p_tail = const *(r9_term - r3_term)\r\n",
    "    \r\n",
    "    return p_tail"
   ],
   "outputs": [],
   "metadata": {}
  },
  {
   "cell_type": "code",
   "execution_count": 12,
   "source": [
    "def calculate_total_p(T, coordinates, box_length, cutoff):\r\n",
    "    \r\n",
    "    num_atoms = len(coordinates)\r\n",
    "    sum_fr = 0\r\n",
    "    for i in range(num_atoms):\r\n",
    "        for j in range(i+1, num_atoms):\r\n",
    "            dist_ij = calculate_distance(coordinates[i], coordinates[j], box_length=box_length)\r\n",
    "            if dist_ij < cutoff:\r\n",
    "                interaction_f = calculate_f(dist_ij)\r\n",
    "                fr = interaction_f * dist_ij\r\n",
    "                sum_fr = sum_fr+fr\r\n",
    "    total_p = (3*num_atoms*T+sum_fr)/(3*box_length**3)    \r\n",
    "    return total_p"
   ],
   "outputs": [],
   "metadata": {}
  },
  {
   "cell_type": "code",
   "execution_count": 13,
   "source": [
    "def mc_energy_pressure(reduced_temperature,num_steps,max_displacement,cutoff,freq,file_path):\r\n",
    "\r\n",
    "    steps = []\r\n",
    "    energies = []\r\n",
    "    all_coordinates = []\r\n",
    "\r\n",
    "    # Calculated quantities\r\n",
    "    beta = 1/reduced_temperature\r\n",
    "\r\n",
    "    # Read initial coordinates\r\n",
    "    coordinates, box_length = read_xyz(file_path)\r\n",
    "    num_particles = len(coordinates)\r\n",
    "\r\n",
    "    # Calculated based on simulation inputs\r\n",
    "    total_energy = calculate_total_energy(coordinates, box_length, cutoff)\r\n",
    "    total_energy += calculate_tail_correction(num_particles, box_length, cutoff)\r\n",
    "    print('ori_energy')\r\n",
    "    print(total_energy/num_particles)\r\n",
    "    total_pressure_notail = calculate_total_p(reduced_temperature, coordinates, box_length, cutoff)\r\n",
    "    tail_pressure = calculate_tail_p(num_particles, box_length, cutoff)\r\n",
    "    total_pressure = total_pressure_notail+tail_pressure\r\n",
    "    print('ori_pressure')\r\n",
    "    print(total_pressure)\r\n",
    "    print('-------------------')\r\n",
    "    for step in range(num_steps):\r\n",
    "\r\n",
    "        # 1. Randomly pick one of num_particles particles\r\n",
    "        random_particle = random.randrange(num_particles)\r\n",
    "\r\n",
    "        # 2. Calculate the interaction energy of the selected particle with the system. Store this value.\r\n",
    "        current_energy = calculate_pair_energy(coordinates, random_particle, box_length, cutoff)\r\n",
    "\r\n",
    "        # 3. Generate a random x, y, z displacement range (-max_displacement, max_displacement) - uniform distribution\r\n",
    "        x_rand = random.uniform(-max_displacement, max_displacement)\r\n",
    "        y_rand = random.uniform(-max_displacement, max_displacement)\r\n",
    "        z_rand = random.uniform(-max_displacement, max_displacement)\r\n",
    "\r\n",
    "        # 4. Modify the coordinate of selected particle by generated displacements.\r\n",
    "        coordinates[random_particle][0] += x_rand\r\n",
    "        coordinates[random_particle][1] += y_rand\r\n",
    "        coordinates[random_particle][2] += z_rand\r\n",
    "\r\n",
    "        # 5. Calculate the new interaction energy of moved particle, store this value.\r\n",
    "        proposed_energy = calculate_pair_energy(coordinates, random_particle, box_length, cutoff)\r\n",
    "\r\n",
    "        # 6. Calculate energy change and decide if we accept the move.\r\n",
    "        delta_energy = proposed_energy - current_energy\r\n",
    "\r\n",
    "        accept = accept_or_reject(delta_energy, beta)\r\n",
    "\r\n",
    "        # 7. If accept, keep movement. If not revert to old position.\r\n",
    "        if accept:\r\n",
    "            total_energy += delta_energy\r\n",
    "            total_pressure_notail = calculate_total_p(reduced_temperature, coordinates, box_length, cutoff)\r\n",
    "            tail_pressure = calculate_tail_p(num_particles, box_length, cutoff)\r\n",
    "            total_pressure = total_pressure_notail+tail_pressure\r\n",
    "        else:\r\n",
    "            # Move is not accepted, roll back coordinates\r\n",
    "            coordinates[random_particle][0] -= x_rand\r\n",
    "            coordinates[random_particle][1] -= y_rand\r\n",
    "            coordinates[random_particle][2] -= z_rand\r\n",
    "\r\n",
    "        # 8. Print the energy and store the coordinates at certain intervals\r\n",
    "        if step % freq == 0:\r\n",
    "            print(step, total_energy/num_particles,total_pressure)\r\n",
    "            print('-------------------')\r\n",
    "            steps.append(step)\r\n",
    "            energies.append(total_energy/num_particles)\r\n",
    "            all_coordinates.append(coordinates)"
   ],
   "outputs": [],
   "metadata": {}
  },
  {
   "cell_type": "code",
   "execution_count": 14,
   "source": [
    "reduced_temperature = 1.5\r\n",
    "num_steps = 50000\r\n",
    "max_displacement = 0.1 \r\n",
    "cutoff = 3\r\n",
    "freq = 1000\r\n",
    "file_path = r'C:\\Users\\91095\\Desktop\\xyz_file\\lj_sample_config_periodic1(1).txt'\r\n",
    "mc_energy_pressure(reduced_temperature,num_steps,max_displacement,cutoff,freq,file_path)"
   ],
   "outputs": [
    {
     "output_type": "stream",
     "name": "stdout",
     "text": [
      "ori_energy\n",
      "-5.687536347860019\n",
      "ori_pressure\n",
      "0.6136486774822469\n",
      "-------------------\n",
      "0 -5.687536347860019 0.6136486774822469\n",
      "-------------------\n"
     ]
    }
   ],
   "metadata": {}
  }
 ],
 "metadata": {
  "orig_nbformat": 4,
  "language_info": {
   "name": "python",
   "version": "3.8.8",
   "mimetype": "text/x-python",
   "codemirror_mode": {
    "name": "ipython",
    "version": 3
   },
   "pygments_lexer": "ipython3",
   "nbconvert_exporter": "python",
   "file_extension": ".py"
  },
  "kernelspec": {
   "name": "python3",
   "display_name": "Python 3.8.8 64-bit ('base': conda)"
  },
  "interpreter": {
   "hash": "ea046bbb20cbdc3939b6cb7a53a3b58412d2657025b9aa7334a484e6e724baf9"
  }
 },
 "nbformat": 4,
 "nbformat_minor": 2
}