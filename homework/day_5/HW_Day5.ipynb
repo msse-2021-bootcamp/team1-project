{
 "cells": [
  {
   "cell_type": "code",
   "execution_count": 1,
   "source": [
    "def calculate_f(r_ij):\r\n",
    "    \r\n",
    "    r6_term = math.pow(1/r_ij, 6)\r\n",
    "    r12_term = math.pow(r6_term, 2)\r\n",
    "    \r\n",
    "    f = 48 * (r12_term - r6_term)/(r_ij**2) * r_ij\r\n",
    "    \r\n",
    "    return f"
   ],
   "outputs": [],
   "metadata": {}
  },
  {
   "cell_type": "code",
   "execution_count": 2,
   "source": [
    "def calculate_distance(coord1, coord2, box_length=None):\r\n",
    "    \r\n",
    "    distance = 0\r\n",
    "    for i in range(3):\r\n",
    "        dim_dist = (coord1[i] - coord2[i]) \r\n",
    "        \r\n",
    "        if box_length:\r\n",
    "            dim_dist = dim_dist - box_length * round(dim_dist / box_length)\r\n",
    "        \r\n",
    "        dim_dist = dim_dist**2\r\n",
    "        distance += dim_dist\r\n",
    "    \r\n",
    "    distance = math.sqrt(distance)\r\n",
    "    return distance"
   ],
   "outputs": [],
   "metadata": {}
  },
  {
   "cell_type": "code",
   "execution_count": 3,
   "source": [
    "def calculate_tail_p(num_particles, box_length, cutoff):\r\n",
    "    \"\"\"\r\n",
    "    Calculate the long range tail correction\r\n",
    "    \"\"\"\r\n",
    "    \r\n",
    "    const = (16 * math.pi * num_particles ** 2) / (3 * box_length ** 3)\r\n",
    "    r3_term = 1/(cutoff**3)\r\n",
    "    r9_term = 2/3*(r3_term**3)\r\n",
    "    p_tail = const *(r9_term - r3_term)\r\n",
    "    \r\n",
    "    return p_tail"
   ],
   "outputs": [],
   "metadata": {}
  },
  {
   "cell_type": "code",
   "execution_count": 4,
   "source": [
    "def calculate_total_p(number, T, coordinates, box_length, cutoff):\r\n",
    "    total_p = 0\r\n",
    "    \r\n",
    "    num_atoms = len(coordinates)\r\n",
    "    \r\n",
    "    for i in range(num_atoms):\r\n",
    "        for j in range(i+1, num_atoms):\r\n",
    "            dist_ij = calculate_distance(coordinates[i], coordinates[j], box_length=box_length)\r\n",
    "            if dist_ij < cutoff:\r\n",
    "                interaction_f = calculate_f(dist_ij)\r\n",
    "                total_p += interaction_f * dist_ij\r\n",
    "    total_p += number*T/(box_length**3)    \r\n",
    "    return total_p"
   ],
   "outputs": [],
   "metadata": {}
  },
  {
   "cell_type": "code",
   "execution_count": null,
   "source": [],
   "outputs": [],
   "metadata": {}
  }
 ],
 "metadata": {
  "orig_nbformat": 4,
  "language_info": {
   "name": "python",
   "version": "3.8.8",
   "mimetype": "text/x-python",
   "codemirror_mode": {
    "name": "ipython",
    "version": 3
   },
   "pygments_lexer": "ipython3",
   "nbconvert_exporter": "python",
   "file_extension": ".py"
  },
  "kernelspec": {
   "name": "python3",
   "display_name": "Python 3.8.8 64-bit ('base': conda)"
  },
  "interpreter": {
   "hash": "ea046bbb20cbdc3939b6cb7a53a3b58412d2657025b9aa7334a484e6e724baf9"
  }
 },
 "nbformat": 4,
 "nbformat_minor": 2
}