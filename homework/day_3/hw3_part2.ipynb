{
 "cells": [
  {
   "cell_type": "markdown",
   "id": "7a39b2d4",
   "metadata": {},
   "source": [
    "# HW 3 Part 2: Initial Configuration\n",
    "\n",
    "So far we have only used an initial configuration from a file. Write a function which can generate initial system configurations from a number of particles and box size (you could choose to have the user specify density instead of box size if you wished). Make sure your function includes docstrings! You will need to generate random coordinates on the range (-box_length/2, box_length/2) to place the particles. You might want to check out other functions in the random library for this!"
   ]
  },
  {
   "cell_type": "code",
   "execution_count": 32,
   "id": "efa99aeb",
   "metadata": {},
   "outputs": [],
   "source": [
    "import math\n",
    "import random\n",
    "    \n",
    "\n",
    "def generate_config(num_particles, box_size):\n",
    "    \"\"\"\n",
    "    Gemerate initial system configurations for a Monte Carlo simulation given num_particles and  box_size\n",
    "   \n",
    "    Parameters\n",
    "    ----------\n",
    "    num_particles: int\n",
    "        The number of porticles to include in the system\n",
    "    box_size: float\n",
    "        The volume of the box containing the particles. Box is assumed to be cubic.\n",
    "    Returns\n",
    "    -------\n",
    "    coordinates: list[list]\n",
    "        List of coordinates of particles that make up the system\n",
    "    box_length: float\n",
    "        The legth of one side of the box containing the particles. Assumes box is cubic.\n",
    "        \n",
    "    \"\"\"\n",
    "    box_length = box_size**(1/3)\n",
    "    return [[random.uniform(-box_length/2,box_length/2) for j in range(3)] for i in range(num_particles)], box_length\n",
    "    "
   ]
  },
  {
   "cell_type": "code",
   "execution_count": null,
   "id": "fe97ccfc",
   "metadata": {},
   "outputs": [],
   "source": []
  }
 ],
 "metadata": {
  "kernelspec": {
   "display_name": "Python 3",
   "language": "python",
   "name": "python3"
  },
  "language_info": {
   "codemirror_mode": {
    "name": "ipython",
    "version": 3
   },
   "file_extension": ".py",
   "mimetype": "text/x-python",
   "name": "python",
   "nbconvert_exporter": "python",
   "pygments_lexer": "ipython3",
   "version": "3.9.6"
  }
 },
 "nbformat": 4,
 "nbformat_minor": 5
}
