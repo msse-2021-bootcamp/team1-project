{
 "cells": [
  {
   "cell_type": "code",
   "execution_count": 8,
   "id": "bac78e78",
   "metadata": {},
   "outputs": [],
   "source": [
    "import math"
   ]
  },
  {
   "cell_type": "code",
   "execution_count": 9,
   "id": "5a6c8b0e",
   "metadata": {},
   "outputs": [],
   "source": [
    "def calculate_LJ(r_ij):\n",
    "    \"\"\"\n",
    "    \n",
    "    The lennard jones interaction energy btwn 2 particles. \n",
    "    \n",
    "    \n",
    "    Computes pairwise Lennard Jones interaction energy based on separation distnace in reduced units. \n",
    "    \n",
    "    Parameters\n",
    "    ---------------\n",
    "    r_ij : float\n",
    "        The disstance btwn particles in reduced units.\n",
    "        \n",
    "        \n",
    "    Returns\n",
    "    ----------\n",
    "    pairwise_energy : float\n",
    "        The parirwise Lennard JOnes interactin in reduced units.\n",
    "    \n",
    "        \n",
    "    \"\"\"\n",
    "    \n",
    "    r6_term = math.pow(1/r_ij, 6)\n",
    "    r12_term = math.pow(r6_term, 2)\n",
    "    pairwise_energy = 4 * (r12_term - r6_term)\n",
    "    return pairwise_energy"
   ]
  },
  {
   "cell_type": "code",
   "execution_count": 10,
   "id": "3067268e",
   "metadata": {},
   "outputs": [],
   "source": [
    "def calculate_distance(coord1, coord2, box_length=None):\n",
    "    \"\"\"\n",
    "    Calculate the distance between two points. When `box_length` is set, the minimum image convention is used to calculate the distance between the points.\n",
    "\n",
    "    Parameters\n",
    "    ----------\n",
    "    coord1, coord2 : list\n",
    "        The coordinates of the points, [x, y, z]\n",
    "    \n",
    "    box_length : float, optional\n",
    "        The box length. This function assumes box is a cube.\n",
    "\n",
    "    Returns\n",
    "    -------\n",
    "    distance : float\n",
    "        The distance between the two points.\n",
    "    \"\"\"\n",
    "    \n",
    "    distance = 0\n",
    "    \n",
    "    for i in range(3):\n",
    "        dim_dist = (coord1[i] - coord2[i])\n",
    "        if box_length:\n",
    "            dim_dist = (dim_dist - box_length * round(dim_dist/ box_length))**2\n",
    "        distance += dim_dist\n",
    "        \n",
    "        \n",
    "    distance = math.sqrt(distance)\n",
    "    \n",
    "    return distance\n"
   ]
  },
  {
   "cell_type": "code",
   "execution_count": 11,
   "id": "6f74556b",
   "metadata": {},
   "outputs": [],
   "source": [
    "def calculate_total_energy(coordinates, cutoff, box_length=None):\n",
    "    total_energy = 0\n",
    "    num_atoms = len(coordinates)\n",
    "\n",
    "    for i in range(num_atoms):\n",
    "        for j in range(i+1, num_atoms):\n",
    "            dist_ij = calculate_distance(coordinates[i], coordinates[j], box_length)\n",
    "            if dist_ij < cutoff:\n",
    "                pairwise_energy = calculate_LJ(dist_ij)\n",
    "            \n",
    "                total_energy += pairwise_energy\n",
    "    \n",
    "    return total_energy"
   ]
  },
  {
   "cell_type": "code",
   "execution_count": 12,
   "id": "7ac1cf2b",
   "metadata": {},
   "outputs": [],
   "source": [
    "# Provided function\n",
    "\n",
    "def read_xyz(filepath):\n",
    "    \"\"\"\n",
    "    Reads coordinates from an xyz file.\n",
    "    \n",
    "    Parameters\n",
    "    ----------\n",
    "    filepath : str\n",
    "       The path to the xyz file to be processed.\n",
    "       \n",
    "    Returns\n",
    "    -------\n",
    "    atomic_coordinates : list\n",
    "        A two dimensional list containing atomic coordinates\n",
    "    \"\"\"\n",
    "    \n",
    "    with open(filepath) as f:\n",
    "        box_length = float(f.readline().split()[0])\n",
    "        num_atoms = float(f.readline())\n",
    "        coordinates = f.readlines()\n",
    "    \n",
    "    atomic_coordinates = []\n",
    "    \n",
    "    for atom in coordinates:\n",
    "        split_atoms = atom.split()\n",
    "        \n",
    "        float_coords = []\n",
    "        \n",
    "        # We split this way to get rid of the atom label.\n",
    "        for coord in split_atoms[1:]:\n",
    "            float_coords.append(float(coord))\n",
    "            \n",
    "        atomic_coordinates.append(float_coords)\n",
    "        \n",
    "    \n",
    "    return atomic_coordinates, box_length"
   ]
  },
  {
   "cell_type": "code",
   "execution_count": 13,
   "id": "72bb2d5a",
   "metadata": {},
   "outputs": [],
   "source": [
    "## Read in first sample configuration file here\n",
    "\n",
    "import os\n",
    "\n",
    "config1_file = os.path.join(\"../../lj_sample_configurations\", \"lj_sample_config_periodic1.txt\")\n",
    "\n",
    "sample_coords, box_length = read_xyz(config1_file)\n"
   ]
  },
  {
   "cell_type": "code",
   "execution_count": 14,
   "id": "28d54880",
   "metadata": {},
   "outputs": [],
   "source": [
    "## Assertions here\n",
    "total_energy = calculate_total_energy(sample_coords,3,box_length)\n",
    "\n",
    "print(total_energy)\n",
    "assert math.isclose(total_energy,-4351.5,rel_tol=1e-03)"
   ]
  },
  {
   "cell_type": "code",
   "execution_count": null,
   "id": "0bb0194b",
   "metadata": {},
   "outputs": [],
   "source": []
  },
  {
   "cell_type": "code",
   "execution_count": null,
   "id": "dee36d5a",
   "metadata": {},
   "outputs": [],
   "source": []
  }
 ],
 "metadata": {
  "kernelspec": {
   "display_name": "Python 3",
   "language": "python",
   "name": "python3"
  },
  "language_info": {
   "codemirror_mode": {
    "name": "ipython",
    "version": 3
   },
   "file_extension": ".py",
   "mimetype": "text/x-python",
   "name": "python",
   "nbconvert_exporter": "python",
   "pygments_lexer": "ipython3",
   "version": "3.9.6"
  }
 },
 "nbformat": 4,
 "nbformat_minor": 5
}
