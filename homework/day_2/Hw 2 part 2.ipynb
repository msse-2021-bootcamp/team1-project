{
 "cells": [
  {
   "cell_type": "markdown",
   "id": "e03bd39a",
   "metadata": {},
   "source": [
    "###HW 2 Part 2 Tail correct"
   ]
  },
  {
   "cell_type": "code",
   "execution_count": 30,
   "id": "5b6c083c",
   "metadata": {},
   "outputs": [],
   "source": [
    "def read_xyz(filepath):\n",
    "    \"\"\"\n",
    "    Reads coordinates from an xyz file.\n",
    "    \n",
    "    Parameters\n",
    "    ----------\n",
    "    filepath : str\n",
    "       The path to the xyz file to be processed.\n",
    "       \n",
    "    Returns\n",
    "    -------\n",
    "    atomic_coordinates : list\n",
    "        A two dimensional list containing atomic coordinates\n",
    "    \"\"\"\n",
    "    \n",
    "    with open(filepath) as f:\n",
    "        box_length = float(f.readline().split()[0])\n",
    "        num_atoms = float(f.readline())\n",
    "        coordinates = f.readlines()\n",
    "    \n",
    "    atomic_coordinates = []\n",
    "    \n",
    "    for atom in coordinates:\n",
    "        split_atoms = atom.split()\n",
    "        \n",
    "        float_coords = []\n",
    "        \n",
    "        # We split this way to get rid of the atom label.\n",
    "        for coord in split_atoms[1:]:\n",
    "            float_coords.append(float(coord))\n",
    "            \n",
    "        atomic_coordinates.append(float_coords)\n",
    "        \n",
    "    \n",
    "    return atomic_coordinates, box_length\n",
    "    \n"
   ]
  },
  {
   "cell_type": "code",
   "execution_count": 37,
   "id": "ba012450",
   "metadata": {},
   "outputs": [
    {
     "ename": "TypeError",
     "evalue": "dirname() takes 1 positional argument but 2 were given",
     "output_type": "error",
     "traceback": [
      "\u001b[0;31m---------------------------------------------------------------------------\u001b[0m",
      "\u001b[0;31mTypeError\u001b[0m                                 Traceback (most recent call last)",
      "\u001b[0;32m/tmp/ipykernel_58531/1364487292.py\u001b[0m in \u001b[0;36m<module>\u001b[0;34m\u001b[0m\n\u001b[1;32m      1\u001b[0m \u001b[0;32mimport\u001b[0m \u001b[0mos\u001b[0m\u001b[0;34m\u001b[0m\u001b[0;34m\u001b[0m\u001b[0m\n\u001b[1;32m      2\u001b[0m \u001b[0;34m\u001b[0m\u001b[0m\n\u001b[0;32m----> 3\u001b[0;31m \u001b[0mconfig1_file\u001b[0m \u001b[0;34m=\u001b[0m \u001b[0mos\u001b[0m\u001b[0;34m.\u001b[0m\u001b[0mpath\u001b[0m\u001b[0;34m.\u001b[0m\u001b[0mdirname\u001b[0m\u001b[0;34m(\u001b[0m\u001b[0;34m\"lj_sample_configurations\"\u001b[0m\u001b[0;34m,\u001b[0m \u001b[0;34m\"lj_sample_config_periodic1.txt\"\u001b[0m\u001b[0;34m)\u001b[0m\u001b[0;34m\u001b[0m\u001b[0;34m\u001b[0m\u001b[0m\n\u001b[0m\u001b[1;32m      4\u001b[0m \u001b[0;34m\u001b[0m\u001b[0m\n\u001b[1;32m      5\u001b[0m \u001b[0msample_coords\u001b[0m\u001b[0;34m,\u001b[0m \u001b[0mbox_length\u001b[0m \u001b[0;34m=\u001b[0m \u001b[0mread_xyz\u001b[0m\u001b[0;34m(\u001b[0m\u001b[0mconfig1_file\u001b[0m\u001b[0;34m)\u001b[0m\u001b[0;34m\u001b[0m\u001b[0;34m\u001b[0m\u001b[0m\n",
      "\u001b[0;31mTypeError\u001b[0m: dirname() takes 1 positional argument but 2 were given"
     ]
    }
   ],
   "source": [
    "import os\n",
    "\n",
    "config1_file = os.path.dirname(\"lj_sample_configurations\", \"lj_sample_config_periodic1.txt\")\n",
    "\n",
    "sample_coords, box_length = read_xyz(config1_file)\n",
    "\n",
    "print(box_length)\n",
    "\n",
    "print(len(sample_coords))"
   ]
  },
  {
   "cell_type": "code",
   "execution_count": null,
   "id": "ac5f9094",
   "metadata": {},
   "outputs": [],
   "source": [
    "#Write a function calculate_tail_correction which calculates the tail correction. \n",
    "\n",
    "import math\n",
    "\n",
    "def calculate_tail_correction(n,v,r_c):\n",
    "    r3_term = math.pow(1/r_c, 3)\n",
    "    r9_term = (1/3) * (math.pow(r3_term, 9))\n",
    "    NV_term = (8*math.pi/3) * ((n**2)/v)\n",
    "    tail_correction = NV_term * (r9_term - r3_term)\n",
    "    \n",
    "    return tail_correction\n",
    "    "
   ]
  },
  {
   "cell_type": "code",
   "execution_count": 24,
   "id": "d70b3512",
   "metadata": {},
   "outputs": [
    {
     "data": {
      "text/plain": [
       "-1.1252171508196552e+44"
      ]
     },
     "execution_count": 24,
     "metadata": {},
     "output_type": "execute_result"
    }
   ],
   "source": [
    "calculate_tail_correction(6.022E+23,1000,3)"
   ]
  },
  {
   "cell_type": "code",
   "execution_count": 22,
   "id": "9f4473a2",
   "metadata": {},
   "outputs": [
    {
     "ename": "NameError",
     "evalue": "name 'read_xyz' is not defined",
     "output_type": "error",
     "traceback": [
      "\u001b[0;31m---------------------------------------------------------------------------\u001b[0m",
      "\u001b[0;31mNameError\u001b[0m                                 Traceback (most recent call last)",
      "\u001b[0;32m/tmp/ipykernel_58531/1404744532.py\u001b[0m in \u001b[0;36m<module>\u001b[0;34m\u001b[0m\n\u001b[1;32m      3\u001b[0m \u001b[0mconfig1_file\u001b[0m \u001b[0;34m=\u001b[0m \u001b[0mos\u001b[0m\u001b[0;34m.\u001b[0m\u001b[0mpath\u001b[0m\u001b[0;34m.\u001b[0m\u001b[0mjoin\u001b[0m\u001b[0;34m(\u001b[0m\u001b[0;34m\"lj_sample_configurations\"\u001b[0m\u001b[0;34m,\u001b[0m \u001b[0;34m\"lj_sample_config_periodic1.txt\"\u001b[0m\u001b[0;34m)\u001b[0m\u001b[0;34m\u001b[0m\u001b[0;34m\u001b[0m\u001b[0m\n\u001b[1;32m      4\u001b[0m \u001b[0;34m\u001b[0m\u001b[0m\n\u001b[0;32m----> 5\u001b[0;31m \u001b[0msample_coords\u001b[0m\u001b[0;34m,\u001b[0m \u001b[0mbox_length\u001b[0m \u001b[0;34m=\u001b[0m \u001b[0mread_xyz\u001b[0m\u001b[0;34m(\u001b[0m\u001b[0mconfig1_file\u001b[0m\u001b[0;34m)\u001b[0m\u001b[0;34m\u001b[0m\u001b[0;34m\u001b[0m\u001b[0m\n\u001b[0m\u001b[1;32m      6\u001b[0m \u001b[0;34m\u001b[0m\u001b[0m\n\u001b[1;32m      7\u001b[0m \u001b[0mprint\u001b[0m\u001b[0;34m(\u001b[0m\u001b[0mbox_length\u001b[0m\u001b[0;34m)\u001b[0m\u001b[0;34m\u001b[0m\u001b[0;34m\u001b[0m\u001b[0m\n",
      "\u001b[0;31mNameError\u001b[0m: name 'read_xyz' is not defined"
     ]
    }
   ],
   "source": []
  },
  {
   "cell_type": "code",
   "execution_count": 18,
   "id": "42e67c30",
   "metadata": {},
   "outputs": [
    {
     "ename": "NameError",
     "evalue": "name 'tail_correction' is not defined",
     "output_type": "error",
     "traceback": [
      "\u001b[0;31m---------------------------------------------------------------------------\u001b[0m",
      "\u001b[0;31mNameError\u001b[0m                                 Traceback (most recent call last)",
      "\u001b[0;32m/tmp/ipykernel_58531/3622134277.py\u001b[0m in \u001b[0;36m<module>\u001b[0;34m\u001b[0m\n\u001b[1;32m      1\u001b[0m \u001b[0;31m#Write an assert statement to check against the reported value from NIST.\u001b[0m\u001b[0;34m\u001b[0m\u001b[0;34m\u001b[0m\u001b[0;34m\u001b[0m\u001b[0m\n\u001b[1;32m      2\u001b[0m \u001b[0;31m#The value you are looking for is ULRC. We were using Configuration 1 in class.\u001b[0m\u001b[0;34m\u001b[0m\u001b[0;34m\u001b[0m\u001b[0;34m\u001b[0m\u001b[0m\n\u001b[0;32m----> 3\u001b[0;31m \u001b[0;32massert\u001b[0m \u001b[0mtail_correction\u001b[0m \u001b[0;34m==\u001b[0m \u001b[0;34m-\u001b[0m\u001b[0;36m1.9849E+02\u001b[0m\u001b[0;34m\u001b[0m\u001b[0;34m\u001b[0m\u001b[0m\n\u001b[0m",
      "\u001b[0;31mNameError\u001b[0m: name 'tail_correction' is not defined"
     ]
    }
   ],
   "source": [
    "#Write an assert statement to check against the reported value from NIST. \n",
    "#The value you are looking for is ULRC. We were using Configuration 1 in class.\n",
    "assert tail_correction == -1.9849E+02"
   ]
  },
  {
   "cell_type": "code",
   "execution_count": null,
   "id": "4ebbb27e",
   "metadata": {},
   "outputs": [],
   "source": [
    "#Answer this question - \n",
    "#What is the difference in calculated system energy \n",
    "#when there is no cut-off vs when using a cut-off of $3\\sigma$?\n",
    "\n"
   ]
  }
 ],
 "metadata": {
  "kernelspec": {
   "display_name": "Python 3 (ipykernel)",
   "language": "python",
   "name": "python3"
  },
  "language_info": {
   "codemirror_mode": {
    "name": "ipython",
    "version": 3
   },
   "file_extension": ".py",
   "mimetype": "text/x-python",
   "name": "python",
   "nbconvert_exporter": "python",
   "pygments_lexer": "ipython3",
   "version": "3.9.6"
  }
 },
 "nbformat": 4,
 "nbformat_minor": 5
}
