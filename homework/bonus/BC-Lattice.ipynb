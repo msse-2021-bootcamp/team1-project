{
 "cells": [
  {
   "cell_type": "markdown",
   "id": "35902089",
   "metadata": {},
   "source": [
    "Alternate Lattice Write a function called cubic_lattice which places a specified number of particles on a cubic lattice. The function should take a number of particles and a box length. You can turn in this assignment here. It is due August 18, 2021.\n",
    "\n"
   ]
  },
  {
   "cell_type": "code",
   "execution_count": 2,
   "id": "e89595f6",
   "metadata": {},
   "outputs": [
    {
     "ename": "SyntaxError",
     "evalue": "invalid syntax (3026174023.py, line 23)",
     "output_type": "error",
     "traceback": [
      "\u001b[0;36m  File \u001b[0;32m\"/tmp/ipykernel_79939/3026174023.py\"\u001b[0;36m, line \u001b[0;32m23\u001b[0m\n\u001b[0;31m    size = 5\u001b[0m\n\u001b[0m    ^\u001b[0m\n\u001b[0;31mSyntaxError\u001b[0m\u001b[0;31m:\u001b[0m invalid syntax\n"
     ]
    }
   ],
   "source": [
    "from vpython import *\n",
    "from numpy import *\n",
    "\n",
    "size = 5\n",
    "radius = 0.5\n",
    "# predefine the colours\n",
    "elements = [\n",
    "    vec(0, 1, 1),\n",
    "    vec(1, 1, 0),\n",
    "]\n",
    "\n",
    "z = 0  # pin z to just a single layer \n",
    "for y in range(-size, size):\n",
    "    for x in range(-size, size):\n",
    "        sphere(pos=vector(x, y, z), radius=radius, color=elements[(x + y) % 2])\n",
    "\n",
    "for z in range(-size, size):\n",
    "    for y in range(-size, size):\n",
    "        for x in range(-size, size):\n",
    "            sphere(pos=vec\n",
    "                   \n",
    "                   \n",
    "size = 5\n",
    "elements = [\n",
    "    {'radius': 0.6, 'color': vec(0, 1, 0)},\n",
    "    {'radius': 0.4, 'color': vec(0.6, 0.1, 1)},\n",
    "]\n",
    "\n",
    "for z in range(-size, size):\n",
    "    for y in range(-size, size):\n",
    "        for x in range(-size, size):\n",
    "            sphere(pos=vector(x, y, z), **elements[(x + y + z) % 2])                                                                             \n"
   ]
  },
  {
   "cell_type": "code",
   "execution_count": 1,
   "id": "ef3e8028",
   "metadata": {},
   "outputs": [],
   "source": [
    "import itertools\n",
    "\n",
    "L = 3\n",
    "d = 1\n",
    "counter = 0\n",
    "with open(\"question1.xyz\",\"w\") as text_file:\n",
    "    text_file.write(\"\\ncomment goes here\\n\")\n",
    "    for x,y,z in itertools.product(range(L),repeat = 3):\n",
    "        text_file.write('H %f %f %f\\n' % (x, y, z))\n",
    "        counter=counter+1\n"
   ]
  }
 ],
 "metadata": {
  "kernelspec": {
   "display_name": "Python 3 (ipykernel)",
   "language": "python",
   "name": "python3"
  },
  "language_info": {
   "codemirror_mode": {
    "name": "ipython",
    "version": 3
   },
   "file_extension": ".py",
   "mimetype": "text/x-python",
   "name": "python",
   "nbconvert_exporter": "python",
   "pygments_lexer": "ipython3",
   "version": "3.9.6"
  }
 },
 "nbformat": 4,
 "nbformat_minor": 5
}
