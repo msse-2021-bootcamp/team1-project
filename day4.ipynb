{
 "cells": [
  {
   "cell_type": "markdown",
   "id": "4d9ccdf1",
   "metadata": {},
   "source": [
    "## NUmpy rewrite of calculate_distance function"
   ]
  },
  {
   "cell_type": "code",
   "execution_count": 1,
   "id": "79cb6373",
   "metadata": {},
   "outputs": [],
   "source": [
    "import math\n",
    "def calculate_distance(coord1, coord2, box_length=None):\n",
    "    \"\"\"\n",
    "    Calculate the distance between two 3D coordinates.\n",
    "    Parameters\n",
    "    ----------\n",
    "    coord1, coord2: list\n",
    "        The atomic coordinates\n",
    "    box_length : float\n",
    "        The box length. If given, the minimum image convention will be used to calculate the distance.\n",
    "    Returns\n",
    "    -------\n",
    "    distance: float\n",
    "        The distance between the two points.\n",
    "    \"\"\"\n",
    "    distance = 0\n",
    "    for i in range(3):\n",
    "        dim_dist = (coord1[i] - coord2[i])\n",
    "        if box_length:\n",
    "            coord_dist = dim_dist - box_length * np.round(dim_dist / box_length)\n",
    "        dim_dist = dim_dist**2\n",
    "        distance += dim_dist\n",
    "    distance = np.sqrt(distance)\n",
    "    return distance\n"
   ]
  },
  {
   "cell_type": "code",
   "execution_count": 2,
   "id": "296d3538",
   "metadata": {},
   "outputs": [],
   "source": [
    "import numpy as np\n",
    "\n",
    "point1 = np.array([0,0,0])\n",
    "\n",
    "point2 = np.array([0,8,0])\n",
    "\n"
   ]
  },
  {
   "cell_type": "code",
   "execution_count": 3,
   "id": "a1cb04b0",
   "metadata": {},
   "outputs": [
    {
     "data": {
      "text/plain": [
       "8.0"
      ]
     },
     "execution_count": 3,
     "metadata": {},
     "output_type": "execute_result"
    }
   ],
   "source": [
    "calculate_distance(point1, point2)"
   ]
  },
  {
   "cell_type": "code",
   "execution_count": 4,
   "id": "8b594da3",
   "metadata": {},
   "outputs": [
    {
     "name": "stdout",
     "output_type": "stream",
     "text": [
      "[0 8 0]\n",
      "[ 0 -8  0]\n"
     ]
    }
   ],
   "source": [
    "dimensional_distance = point2 - point1\n",
    "\n",
    "print(dimensional_distance)\n",
    "\n",
    "\n",
    "dimensional_distance = point1 - point2\n",
    "print(dimensional_distance)\n"
   ]
  },
  {
   "cell_type": "code",
   "execution_count": 5,
   "id": "af88d9e9",
   "metadata": {},
   "outputs": [
    {
     "name": "stdout",
     "output_type": "stream",
     "text": [
      "8.0\n"
     ]
    }
   ],
   "source": [
    "dd2 = dimensional_distance ** 2 \n",
    "\n",
    "dd2_sum = dd2.sum()\n",
    "\n",
    "distance = math.sqrt(dd2_sum)\n",
    "\n",
    "print(distance)\n",
    "\n"
   ]
  },
  {
   "cell_type": "code",
   "execution_count": 17,
   "id": "fb930bc3",
   "metadata": {},
   "outputs": [],
   "source": [
    "import math\n",
    "def calculate_distance_np(coord1, coord2, box_length=None):\n",
    "    \"\"\"\n",
    "    Calculate the distance between two 3D coordinates.\n",
    "    Parameters\n",
    "    ----------\n",
    "    coord1, coord2: np.array\n",
    "        The atomic coordinates\n",
    "    box_length : float\n",
    "        The box length. If given, the minimum image convention will be used to calculate the distance.\n",
    "    Returns\n",
    "    -------\n",
    "    distance: float\n",
    "        The distance between the two points.\n",
    "    \"\"\"\n",
    "    \n",
    "    coord_dist = coord1 - coord2\n",
    "    \n",
    "    \n",
    "    if box_length:\n",
    "            coord_dist = coord_dist - box_length * np.round(coord_dist / box_length)\n",
    "    \n",
    "   \n",
    "\n",
    "#how many axis it has \n",
    "\n",
    "    if coord_dist.ndim < 2:\n",
    "        coord_dist = coord_dist.reshape(1,-1)\n",
    "\n",
    "\n",
    "\n",
    "\n",
    "\n",
    "    coord_dist = coord_dist ** 2\n",
    "    \n",
    "    coord_dist_sum = coord_dist.sum(axis=1)\n",
    "    \n",
    "    distance = np.sqrt(coord_dist_sum)\n",
    "    \n",
    "    return distance\n",
    "\n",
    "    \n",
    "    \n"
   ]
  },
  {
   "cell_type": "code",
   "execution_count": 18,
   "id": "5d38af05",
   "metadata": {},
   "outputs": [],
   "source": [
    "## Check your funtction w/assert statements\n",
    "\n",
    "\n",
    "point_1 = np.array([0,0,0])\n",
    "\n",
    "point_2 = np.array([1,0,0])\n",
    "\n",
    "dist1 = calculate_distance_np(point_1, point_2)\n",
    "\n",
    "\n",
    "assert dist1 == 1\n",
    "\n",
    "point_1 = np.array([0,0,0])\n",
    "\n",
    "point_2 = np.array([0,1,1])\n",
    "\n",
    "\n",
    "\n",
    "\n",
    "dist2 = calculate_distance_np(point_1, point_2)\n",
    "\n",
    "assert dist2 == math.sqrt(2)"
   ]
  },
  {
   "cell_type": "code",
   "execution_count": 22,
   "id": "e06db977",
   "metadata": {},
   "outputs": [],
   "source": [
    "coord_set1 = np.array([[0,0,0], [0, 1, 0]])\n",
    "\n",
    "coord_set2 = np.array([[0, 8, 0], [0, 1.5, 0]])"
   ]
  },
  {
   "cell_type": "code",
   "execution_count": 23,
   "id": "897d63c1",
   "metadata": {},
   "outputs": [
    {
     "data": {
      "text/plain": [
       "array([2. , 0.5])"
      ]
     },
     "execution_count": 23,
     "metadata": {},
     "output_type": "execute_result"
    }
   ],
   "source": [
    "calculate_distance_np(coord_set1, coord_set2, 10)"
   ]
  },
  {
   "cell_type": "code",
   "execution_count": 24,
   "id": "e2d082d6",
   "metadata": {},
   "outputs": [
    {
     "data": {
      "text/plain": [
       "2"
      ]
     },
     "execution_count": 24,
     "metadata": {},
     "output_type": "execute_result"
    }
   ],
   "source": [
    "coord_set1.ndim"
   ]
  },
  {
   "cell_type": "code",
   "execution_count": null,
   "id": "d5f854ff",
   "metadata": {},
   "outputs": [],
   "source": []
  },
  {
   "cell_type": "code",
   "execution_count": null,
   "id": "fd4c9eba",
   "metadata": {},
   "outputs": [],
   "source": []
  }
 ],
 "metadata": {
  "kernelspec": {
   "display_name": "Python 3 (ipykernel)",
   "language": "python",
   "name": "python3"
  },
  "language_info": {
   "codemirror_mode": {
    "name": "ipython",
    "version": 3
   },
   "file_extension": ".py",
   "mimetype": "text/x-python",
   "name": "python",
   "nbconvert_exporter": "python",
   "pygments_lexer": "ipython3",
   "version": "3.9.6"
  }
 },
 "nbformat": 4,
 "nbformat_minor": 5
}
